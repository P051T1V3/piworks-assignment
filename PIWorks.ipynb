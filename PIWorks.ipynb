{
 "cells": [
  {
   "cell_type": "code",
   "execution_count": 1,
   "metadata": {},
   "outputs": [],
   "source": [
    "import pandas as pd\n",
    "import matplotlib.pyplot as plt\n",
    "import numpy as np"
   ]
  },
  {
   "cell_type": "code",
   "execution_count": 2,
   "metadata": {},
   "outputs": [
    {
     "data": {
      "text/html": [
       "<div>\n",
       "<style scoped>\n",
       "    .dataframe tbody tr th:only-of-type {\n",
       "        vertical-align: middle;\n",
       "    }\n",
       "\n",
       "    .dataframe tbody tr th {\n",
       "        vertical-align: top;\n",
       "    }\n",
       "\n",
       "    .dataframe thead th {\n",
       "        text-align: right;\n",
       "    }\n",
       "</style>\n",
       "<table border=\"1\" class=\"dataframe\">\n",
       "  <thead>\n",
       "    <tr style=\"text-align: right;\">\n",
       "      <th></th>\n",
       "      <th>Area of Interest</th>\n",
       "      <th>Charles</th>\n",
       "      <th>Henry</th>\n",
       "      <th>Susan</th>\n",
       "    </tr>\n",
       "  </thead>\n",
       "  <tbody>\n",
       "    <tr>\n",
       "      <th>0</th>\n",
       "      <td>Work</td>\n",
       "      <td>8.5</td>\n",
       "      <td>9.5</td>\n",
       "      <td>7.0</td>\n",
       "    </tr>\n",
       "    <tr>\n",
       "      <th>1</th>\n",
       "      <td>Family</td>\n",
       "      <td>0.5</td>\n",
       "      <td>1.0</td>\n",
       "      <td>1.5</td>\n",
       "    </tr>\n",
       "    <tr>\n",
       "      <th>2</th>\n",
       "      <td>Homeworks</td>\n",
       "      <td>3.0</td>\n",
       "      <td>2.0</td>\n",
       "      <td>1.0</td>\n",
       "    </tr>\n",
       "    <tr>\n",
       "      <th>3</th>\n",
       "      <td>Individual</td>\n",
       "      <td>1.0</td>\n",
       "      <td>1.5</td>\n",
       "      <td>2.5</td>\n",
       "    </tr>\n",
       "    <tr>\n",
       "      <th>4</th>\n",
       "      <td>Socializing</td>\n",
       "      <td>1.5</td>\n",
       "      <td>0.5</td>\n",
       "      <td>2.0</td>\n",
       "    </tr>\n",
       "    <tr>\n",
       "      <th>5</th>\n",
       "      <td>Spare Time</td>\n",
       "      <td>3.0</td>\n",
       "      <td>2.5</td>\n",
       "      <td>2.0</td>\n",
       "    </tr>\n",
       "    <tr>\n",
       "      <th>6</th>\n",
       "      <td>Sleep</td>\n",
       "      <td>6.5</td>\n",
       "      <td>7.0</td>\n",
       "      <td>8.0</td>\n",
       "    </tr>\n",
       "  </tbody>\n",
       "</table>\n",
       "</div>"
      ],
      "text/plain": [
       "  Area of Interest  Charles  Henry  Susan\n",
       "0             Work      8.5    9.5    7.0\n",
       "1           Family      0.5    1.0    1.5\n",
       "2        Homeworks      3.0    2.0    1.0\n",
       "3       Individual      1.0    1.5    2.5\n",
       "4      Socializing      1.5    0.5    2.0\n",
       "5       Spare Time      3.0    2.5    2.0\n",
       "6            Sleep      6.5    7.0    8.0"
      ]
     },
     "execution_count": 2,
     "metadata": {},
     "output_type": "execute_result"
    }
   ],
   "source": [
    "df = pd.read_excel(\"DailyActivities.xlsx\")\n",
    "names = list(df.columns)[1:] # Starting from index 1 to omit \"Area of Interest\"\n",
    "df"
   ]
  },
  {
   "cell_type": "code",
   "execution_count": 3,
   "metadata": {},
   "outputs": [],
   "source": [
    "# Declaring the positions of each person's hour bars and colors. I picked easily differentiable colors \n",
    "c_ticks = np.arange(1,32,5)\n",
    "h_ticks = np.arange(2,33,5)\n",
    "s_ticks = np.arange(3,34,5)\n",
    "ticks = [c_ticks,h_ticks,s_ticks]\n",
    "colors = [\"mediumblue\",\"mediumaquamarine\",\"crimson\"]"
   ]
  },
  {
   "cell_type": "code",
   "execution_count": 4,
   "metadata": {},
   "outputs": [
    {
     "data": {
      "image/png": "[encoded data removed]",
      "text/plain": [
       "<Figure size 720x576 with 1 Axes>"
      ]
     },
     "metadata": {
      "needs_background": "light"
     },
     "output_type": "display_data"
    }
   ],
   "source": [
    "fig, ax = plt.subplots(figsize=(10,8))\n",
    "\n",
    "# Plotting\n",
    "for i in range(len(names)):\n",
    "    hours = list(df[names[i]])\n",
    "    ax.bar(ticks[i],hours,color=colors[i],width=1,edgecolor=\"w\")\n",
    "\n",
    "# Editing the labels, ticks, and the legend\n",
    "ax.set_ylabel(\"Hours\",fontsize=20)\n",
    "ax.set_xlabel(\"Activities\",fontsize=20)\n",
    "ax.set_title(\"Hours Spent on Activities\",fontsize=25)\n",
    "\n",
    "ax.set_xticks(ticks=h_ticks,labels=list(df[\"Area of Interest\"]),fontsize=12)\n",
    "ax.set_yticks(np.arange(0,10,1.5))\n",
    "ax.legend(names,fontsize=12)\n",
    "\n",
    "# Removing unnecessary borders\n",
    "ax.spines['top'].set_visible(False)\n",
    "ax.spines['right'].set_visible(False)\n",
    "ax.spines['left'].set_visible(False)\n",
    "\n",
    "ax.grid(True ,axis=\"y\")\n",
    "plt.savefig(\"piworks_dailyactivities.jpg\",format=\"jpg\")\n",
    "\n",
    "plt.show()"
   ]
  }
 ],
 "metadata": {
  "kernelspec": {
   "display_name": "Python 3",
   "language": "python",
   "name": "python3"
  },
  "language_info": {
   "codemirror_mode": {
    "name": "ipython",
    "version": 3
   },
   "file_extension": ".py",
   "mimetype": "text/x-python",
   "name": "python",
   "nbconvert_exporter": "python",
   "pygments_lexer": "ipython3",
   "version": "3.9.0"
  }
 },
 "nbformat": 4,
 "nbformat_minor": 4
}
